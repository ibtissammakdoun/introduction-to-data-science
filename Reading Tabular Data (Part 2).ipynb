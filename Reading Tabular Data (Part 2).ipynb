{
 "cells": [
  {
   "cell_type": "markdown",
   "metadata": {},
   "source": [
    "# READING TABULAR DATA "
   ]
  },
  {
   "cell_type": "markdown",
   "metadata": {},
   "source": [
    "## Import pandas library"
   ]
  },
  {
   "cell_type": "raw",
   "metadata": {},
   "source": [
    "For example, say we are working with data regarding the names of babies born in the United States and this data is stored in a CSV file called US baby names.csv. To access the data we can read in the file bellow. The first thing we will be going to do is import the pandas library. And we will do this by writing the keyword import, followed by pandas. And we'll also add in as pd. Now this means that going forward in this notebook we need to use pd to refer to pandas."
   ]
  },
  {
   "cell_type": "code",
   "execution_count": 2,
   "metadata": {},
   "outputs": [],
   "source": [
    "# Import pandas library\n",
    "import pandas as pd"
   ]
  },
  {
   "cell_type": "markdown",
   "metadata": {},
   "source": [
    "## Import data from a csv file"
   ]
  },
  {
   "cell_type": "raw",
   "metadata": {},
   "source": [
    "And now I want to read in a CSV file called US baby names.csv that I have stored in the data directory . So I'm going to use the read CSV method from the pandas library to do that. So I'll type in pd.read_csv, parentheses, and now I'm going to type in the name of the CSV file as a string. Quote, us baby names.csv. And I'll go ahead and run the cell. And now you can see the data. And this object here is called a pandas DataFrame. Now I can create a variable called us babies and assign it to this DataFrame,"
   ]
  },
  {
   "cell_type": "code",
   "execution_count": null,
   "metadata": {},
   "outputs": [],
   "source": [
    "us_babies = pd.read_csv('Data/us_baby_names.csv')"
   ]
  },
  {
   "cell_type": "raw",
   "metadata": {},
   "source": [
    "To see the data again all I have to do is type in us babies into this cell and run."
   ]
  },
  {
   "cell_type": "code",
   "execution_count": null,
   "metadata": {
    "scrolled": true
   },
   "outputs": [],
   "source": [
    "us_babies\n",
    "# As you can see, the columns are labeled ID, Name, Year, \n",
    "# Gender, and Count. And the rows are labeled zero, one, two, \n",
    "# all the way to 1,825,433. Note that Gender in this data set \n",
    "# refers to the gender assigned to these babies at birth. "
   ]
  },
  {
   "cell_type": "markdown",
   "metadata": {},
   "source": [
    "## What were the five most popular baby names in 2014 in the US?"
   ]
  },
  {
   "cell_type": "raw",
   "metadata": {},
   "source": [
    "We will approche this in stages. First We'll , slice out the rows fot the year 2014 then we'll sort the rows in descending order by count. After that we'll get the first five rows of the resulting DataFrame. And now we'll show you how to do this using the pandas library"
   ]
  },
  {
   "cell_type": "markdown",
   "metadata": {},
   "source": [
    "### Step 1: Slice out the rows for the year 2014"
   ]
  },
  {
   "cell_type": "raw",
   "metadata": {},
   "source": [
    "First, I'll show you how to access the Year column from the us babies DataFrame. And I do this by writing us babies, square brackets, Year. Note that the name of a column is always expressed as a string. I'll go ahead and run the cell"
   ]
  },
  {
   "cell_type": "code",
   "execution_count": null,
   "metadata": {},
   "outputs": [],
   "source": [
    "us_babies['Year']"
   ]
  },
  {
   "cell_type": "raw",
   "metadata": {},
   "source": [
    "This output object is called a pandas serie"
   ]
  },
  {
   "cell_type": "markdown",
   "metadata": {},
   "source": [
    "### Step 2: We need to select rows where the year is equal to 2014. "
   ]
  },
  {
   "cell_type": "code",
   "execution_count": null,
   "metadata": {},
   "outputs": [],
   "source": [
    "us_babies['Year']==2014"
   ]
  },
  {
   "cell_type": "raw",
   "metadata": {},
   "source": [
    "We create a Series that contains true for each row I want to keep and false for each row I want to drop.\n",
    "I do this by comparing each year in us babies with 2014.  \n",
    "There. As you can see, each year from the Year column was compared to 2014 and I got a series of true and false. \n",
    "Just a note, these true and false values are known as booleans in programming."
   ]
  },
  {
   "cell_type": "raw",
   "metadata": {},
   "source": [
    "Now I want to use loc. Loc is a method that allows you to access a specific group of rows and columns from a pandas DataFrame. Loc can take in a series of booleans, such as the one I just created, as an input. So I'll pass in this series of booleans as a first input to loc and then the second input will be a colon. I'll type in us babies.loc, square brackets, us babies, square brackets, Year, equals equals 2014 comma colon. Now this part means that I want to access only the rows where the Year is 2014. And the colon here denotes that I want to access all the columns for the rows where Year is 2014."
   ]
  },
  {
   "cell_type": "code",
   "execution_count": null,
   "metadata": {},
   "outputs": [],
   "source": [
    "us_babies.loc[us_babies['Year']==2014,:]"
   ]
  },
  {
   "cell_type": "raw",
   "metadata": {},
   "source": [
    "Now I'll create a variable named us babies 2014 and assign it to this DataFrame and I'll run the cell. So now I can use us babies 2014 to access the DataFrame I just created. "
   ]
  },
  {
   "cell_type": "code",
   "execution_count": null,
   "metadata": {},
   "outputs": [],
   "source": [
    "us_babies_2014 = us_babies.loc[us_babies['Year']==2014,:]"
   ]
  },
  {
   "cell_type": "markdown",
   "metadata": {},
   "source": [
    "### Step 3: sort the rows in descending order by count"
   ]
  },
  {
   "cell_type": "raw",
   "metadata": {},
   "source": [
    "To do this I'll use the sort values method. I'll pass in count as a first input and descending equals false as a second input. And that second input is what allows me to sort in descending order. So I'll type in us babies 2014.sort values, parentheses, Count comma ascending equals false. "
   ]
  },
  {
   "cell_type": "code",
   "execution_count": null,
   "metadata": {},
   "outputs": [],
   "source": [
    "us_babies_2014.sort_values('Count',ascending=False)"
   ]
  },
  {
   "cell_type": "raw",
   "metadata": {},
   "source": [
    "And I got a new DataFrame. That's because the method sort values returns a new DataFrame. "
   ]
  },
  {
   "cell_type": "raw",
   "metadata": {},
   "source": [
    "Now it'll be convenient to store this new DataFrame in a variable, so that I can refer to the variable whenever I want to access the DataFrame. So I'll go ahead and create a variable, I'll call it sorted us 2014, and I'll assign it to this DataFrame. And I'll run the cell."
   ]
  },
  {
   "cell_type": "code",
   "execution_count": null,
   "metadata": {},
   "outputs": [],
   "source": [
    "sorted_us_2014 = us_babies_2014.sort_values('Count',ascending=False)"
   ]
  },
  {
   "cell_type": "raw",
   "metadata": {},
   "source": [
    "So now when I type in sorted us 2014 and run the cell I have access to the sorted DataFrame."
   ]
  },
  {
   "cell_type": "code",
   "execution_count": null,
   "metadata": {},
   "outputs": [],
   "source": [
    "sorted_us_2014"
   ]
  },
  {
   "cell_type": "markdown",
   "metadata": {},
   "source": [
    "### Step 4: slice out the first five rows of sorted us 2014"
   ]
  },
  {
   "cell_type": "raw",
   "metadata": {},
   "source": [
    "Iloc is the method that works similarly to loc, but takes in numerical indexes instead of the names of columns as inputs. So I'll go ahead and type in sorted us 2014.iloc, square brackets, 0:5. And I'll run the cell. There. So as you can see, the notation 0:5 allows me to access the first five rows of the sorted us 2014 DataFrame"
   ]
  },
  {
   "cell_type": "code",
   "execution_count": null,
   "metadata": {},
   "outputs": [],
   "source": [
    "sorted_us_2014.iloc[0:5]"
   ]
  },
  {
   "cell_type": "raw",
   "metadata": {},
   "source": [
    "And according to the data set I'm working with Emma, Olivia, Noah, Sophia, and Liam are the five most popular baby names in 2014 in the United States. "
   ]
  },
  {
   "cell_type": "raw",
   "metadata": {},
   "source": [
    "So I have a CSV file named state baby names.csv located in the data directory. And to read in that CSV file I'll use the method read CSV from the pandas library. So pd.read csv, parentheses, state baby names.csv. And the read CSV method will convert the CSV file into a pandas DataFrame, which I'll go ahead and store in a variable named states babies. And I'll run the cell."
   ]
  },
  {
   "cell_type": "code",
   "execution_count": 3,
   "metadata": {},
   "outputs": [],
   "source": [
    "states_babies = pd.read_csv('Data/state_baby_names.csv')"
   ]
  },
  {
   "cell_type": "raw",
   "metadata": {},
   "source": [
    "Now when I type in states babies in this cell and run it I have access to the DataFrame. Notice that each row in this DataFrame represents a distinct pair of baby name, birth year, and birth state. "
   ]
  },
  {
   "cell_type": "code",
   "execution_count": 4,
   "metadata": {},
   "outputs": [
    {
     "data": {
      "text/html": [
       "<div>\n",
       "<style scoped>\n",
       "    .dataframe tbody tr th:only-of-type {\n",
       "        vertical-align: middle;\n",
       "    }\n",
       "\n",
       "    .dataframe tbody tr th {\n",
       "        vertical-align: top;\n",
       "    }\n",
       "\n",
       "    .dataframe thead th {\n",
       "        text-align: right;\n",
       "    }\n",
       "</style>\n",
       "<table border=\"1\" class=\"dataframe\">\n",
       "  <thead>\n",
       "    <tr style=\"text-align: right;\">\n",
       "      <th></th>\n",
       "      <th>Id</th>\n",
       "      <th>Name</th>\n",
       "      <th>Year</th>\n",
       "      <th>Gender</th>\n",
       "      <th>State</th>\n",
       "      <th>Count</th>\n",
       "    </tr>\n",
       "  </thead>\n",
       "  <tbody>\n",
       "    <tr>\n",
       "      <th>0</th>\n",
       "      <td>1</td>\n",
       "      <td>Mary</td>\n",
       "      <td>1910</td>\n",
       "      <td>F</td>\n",
       "      <td>AK</td>\n",
       "      <td>14</td>\n",
       "    </tr>\n",
       "    <tr>\n",
       "      <th>1</th>\n",
       "      <td>2</td>\n",
       "      <td>Annie</td>\n",
       "      <td>1910</td>\n",
       "      <td>F</td>\n",
       "      <td>AK</td>\n",
       "      <td>12</td>\n",
       "    </tr>\n",
       "    <tr>\n",
       "      <th>2</th>\n",
       "      <td>3</td>\n",
       "      <td>Anna</td>\n",
       "      <td>1910</td>\n",
       "      <td>F</td>\n",
       "      <td>AK</td>\n",
       "      <td>10</td>\n",
       "    </tr>\n",
       "    <tr>\n",
       "      <th>3</th>\n",
       "      <td>4</td>\n",
       "      <td>Margaret</td>\n",
       "      <td>1910</td>\n",
       "      <td>F</td>\n",
       "      <td>AK</td>\n",
       "      <td>8</td>\n",
       "    </tr>\n",
       "    <tr>\n",
       "      <th>4</th>\n",
       "      <td>5</td>\n",
       "      <td>Helen</td>\n",
       "      <td>1910</td>\n",
       "      <td>F</td>\n",
       "      <td>AK</td>\n",
       "      <td>7</td>\n",
       "    </tr>\n",
       "    <tr>\n",
       "      <th>...</th>\n",
       "      <td>...</td>\n",
       "      <td>...</td>\n",
       "      <td>...</td>\n",
       "      <td>...</td>\n",
       "      <td>...</td>\n",
       "      <td>...</td>\n",
       "    </tr>\n",
       "    <tr>\n",
       "      <th>5647421</th>\n",
       "      <td>5647422</td>\n",
       "      <td>Seth</td>\n",
       "      <td>2014</td>\n",
       "      <td>M</td>\n",
       "      <td>WY</td>\n",
       "      <td>5</td>\n",
       "    </tr>\n",
       "    <tr>\n",
       "      <th>5647422</th>\n",
       "      <td>5647423</td>\n",
       "      <td>Spencer</td>\n",
       "      <td>2014</td>\n",
       "      <td>M</td>\n",
       "      <td>WY</td>\n",
       "      <td>5</td>\n",
       "    </tr>\n",
       "    <tr>\n",
       "      <th>5647423</th>\n",
       "      <td>5647424</td>\n",
       "      <td>Tyce</td>\n",
       "      <td>2014</td>\n",
       "      <td>M</td>\n",
       "      <td>WY</td>\n",
       "      <td>5</td>\n",
       "    </tr>\n",
       "    <tr>\n",
       "      <th>5647424</th>\n",
       "      <td>5647425</td>\n",
       "      <td>Victor</td>\n",
       "      <td>2014</td>\n",
       "      <td>M</td>\n",
       "      <td>WY</td>\n",
       "      <td>5</td>\n",
       "    </tr>\n",
       "    <tr>\n",
       "      <th>5647425</th>\n",
       "      <td>5647426</td>\n",
       "      <td>Waylon</td>\n",
       "      <td>2014</td>\n",
       "      <td>M</td>\n",
       "      <td>WY</td>\n",
       "      <td>5</td>\n",
       "    </tr>\n",
       "  </tbody>\n",
       "</table>\n",
       "<p>5647426 rows × 6 columns</p>\n",
       "</div>"
      ],
      "text/plain": [
       "              Id      Name  Year Gender State  Count\n",
       "0              1      Mary  1910      F    AK     14\n",
       "1              2     Annie  1910      F    AK     12\n",
       "2              3      Anna  1910      F    AK     10\n",
       "3              4  Margaret  1910      F    AK      8\n",
       "4              5     Helen  1910      F    AK      7\n",
       "...          ...       ...   ...    ...   ...    ...\n",
       "5647421  5647422      Seth  2014      M    WY      5\n",
       "5647422  5647423   Spencer  2014      M    WY      5\n",
       "5647423  5647424      Tyce  2014      M    WY      5\n",
       "5647424  5647425    Victor  2014      M    WY      5\n",
       "5647425  5647426    Waylon  2014      M    WY      5\n",
       "\n",
       "[5647426 rows x 6 columns]"
      ]
     },
     "execution_count": 4,
     "metadata": {},
     "output_type": "execute_result"
    }
   ],
   "source": [
    "states_babies"
   ]
  },
  {
   "cell_type": "raw",
   "metadata": {},
   "source": [
    "Now let's use pandas and the states babies data set to answer the following question.  "
   ]
  },
  {
   "cell_type": "markdown",
   "metadata": {},
   "source": [
    "## What were the five most popular baby names in 2014 in California?"
   ]
  },
  {
   "cell_type": "raw",
   "metadata": {},
   "source": [
    "Again, I'll approach this in stages. First, I'll slice out the rows for the year 2014. Next, I'll slice out the rows for the state California. Then I'll sort the rows in descending order by Count. After that I'll get the first five rows of the resulting DataFrame. Now I'll show you how to do this using the pandas library."
   ]
  },
  {
   "cell_type": "markdown",
   "metadata": {},
   "source": [
    "### Step 1: Slice out the rows for the year 2014"
   ]
  },
  {
   "cell_type": "raw",
   "metadata": {},
   "source": [
    "So I'll use the loc method. I'll go ahead and type in states babies.loc, square brackets, states babies, square brackets, Year, equals equals 2014 comma colon. Now the first input indicates that I want only the rows of the states babies DataFrame that correspond to names of babies born in various states in the year 2014. The second input indicates that I want all columns for the aforementioned rows. And since the loc method returns a new DataFrame I'll go ahead and store it in a variable, which I'll name states babies 2014. And I'll run the cell."
   ]
  },
  {
   "cell_type": "code",
   "execution_count": 5,
   "metadata": {},
   "outputs": [],
   "source": [
    "statee_babies_2014 = states_babies.loc[states_babies['Year']==2014,:]"
   ]
  },
  {
   "cell_type": "raw",
   "metadata": {},
   "source": [
    "Now I'll type states babies 2014 and run."
   ]
  },
  {
   "cell_type": "code",
   "execution_count": 6,
   "metadata": {},
   "outputs": [
    {
     "data": {
      "text/html": [
       "<div>\n",
       "<style scoped>\n",
       "    .dataframe tbody tr th:only-of-type {\n",
       "        vertical-align: middle;\n",
       "    }\n",
       "\n",
       "    .dataframe tbody tr th {\n",
       "        vertical-align: top;\n",
       "    }\n",
       "\n",
       "    .dataframe thead th {\n",
       "        text-align: right;\n",
       "    }\n",
       "</style>\n",
       "<table border=\"1\" class=\"dataframe\">\n",
       "  <thead>\n",
       "    <tr style=\"text-align: right;\">\n",
       "      <th></th>\n",
       "      <th>Id</th>\n",
       "      <th>Name</th>\n",
       "      <th>Year</th>\n",
       "      <th>Gender</th>\n",
       "      <th>State</th>\n",
       "      <th>Count</th>\n",
       "    </tr>\n",
       "  </thead>\n",
       "  <tbody>\n",
       "    <tr>\n",
       "      <th>13522</th>\n",
       "      <td>13523</td>\n",
       "      <td>Emma</td>\n",
       "      <td>2014</td>\n",
       "      <td>F</td>\n",
       "      <td>AK</td>\n",
       "      <td>50</td>\n",
       "    </tr>\n",
       "    <tr>\n",
       "      <th>13523</th>\n",
       "      <td>13524</td>\n",
       "      <td>Olivia</td>\n",
       "      <td>2014</td>\n",
       "      <td>F</td>\n",
       "      <td>AK</td>\n",
       "      <td>47</td>\n",
       "    </tr>\n",
       "    <tr>\n",
       "      <th>13524</th>\n",
       "      <td>13525</td>\n",
       "      <td>Sophia</td>\n",
       "      <td>2014</td>\n",
       "      <td>F</td>\n",
       "      <td>AK</td>\n",
       "      <td>43</td>\n",
       "    </tr>\n",
       "    <tr>\n",
       "      <th>13525</th>\n",
       "      <td>13526</td>\n",
       "      <td>Aurora</td>\n",
       "      <td>2014</td>\n",
       "      <td>F</td>\n",
       "      <td>AK</td>\n",
       "      <td>35</td>\n",
       "    </tr>\n",
       "    <tr>\n",
       "      <th>13526</th>\n",
       "      <td>13527</td>\n",
       "      <td>Isabella</td>\n",
       "      <td>2014</td>\n",
       "      <td>F</td>\n",
       "      <td>AK</td>\n",
       "      <td>33</td>\n",
       "    </tr>\n",
       "    <tr>\n",
       "      <th>...</th>\n",
       "      <td>...</td>\n",
       "      <td>...</td>\n",
       "      <td>...</td>\n",
       "      <td>...</td>\n",
       "      <td>...</td>\n",
       "      <td>...</td>\n",
       "    </tr>\n",
       "    <tr>\n",
       "      <th>5647421</th>\n",
       "      <td>5647422</td>\n",
       "      <td>Seth</td>\n",
       "      <td>2014</td>\n",
       "      <td>M</td>\n",
       "      <td>WY</td>\n",
       "      <td>5</td>\n",
       "    </tr>\n",
       "    <tr>\n",
       "      <th>5647422</th>\n",
       "      <td>5647423</td>\n",
       "      <td>Spencer</td>\n",
       "      <td>2014</td>\n",
       "      <td>M</td>\n",
       "      <td>WY</td>\n",
       "      <td>5</td>\n",
       "    </tr>\n",
       "    <tr>\n",
       "      <th>5647423</th>\n",
       "      <td>5647424</td>\n",
       "      <td>Tyce</td>\n",
       "      <td>2014</td>\n",
       "      <td>M</td>\n",
       "      <td>WY</td>\n",
       "      <td>5</td>\n",
       "    </tr>\n",
       "    <tr>\n",
       "      <th>5647424</th>\n",
       "      <td>5647425</td>\n",
       "      <td>Victor</td>\n",
       "      <td>2014</td>\n",
       "      <td>M</td>\n",
       "      <td>WY</td>\n",
       "      <td>5</td>\n",
       "    </tr>\n",
       "    <tr>\n",
       "      <th>5647425</th>\n",
       "      <td>5647426</td>\n",
       "      <td>Waylon</td>\n",
       "      <td>2014</td>\n",
       "      <td>M</td>\n",
       "      <td>WY</td>\n",
       "      <td>5</td>\n",
       "    </tr>\n",
       "  </tbody>\n",
       "</table>\n",
       "<p>94148 rows × 6 columns</p>\n",
       "</div>"
      ],
      "text/plain": [
       "              Id      Name  Year Gender State  Count\n",
       "13522      13523      Emma  2014      F    AK     50\n",
       "13523      13524    Olivia  2014      F    AK     47\n",
       "13524      13525    Sophia  2014      F    AK     43\n",
       "13525      13526    Aurora  2014      F    AK     35\n",
       "13526      13527  Isabella  2014      F    AK     33\n",
       "...          ...       ...   ...    ...   ...    ...\n",
       "5647421  5647422      Seth  2014      M    WY      5\n",
       "5647422  5647423   Spencer  2014      M    WY      5\n",
       "5647423  5647424      Tyce  2014      M    WY      5\n",
       "5647424  5647425    Victor  2014      M    WY      5\n",
       "5647425  5647426    Waylon  2014      M    WY      5\n",
       "\n",
       "[94148 rows x 6 columns]"
      ]
     },
     "execution_count": 6,
     "metadata": {},
     "output_type": "execute_result"
    }
   ],
   "source": [
    "statee_babies_2014"
   ]
  },
  {
   "cell_type": "markdown",
   "metadata": {},
   "source": [
    "### Step 2: Slice out rows for the state California"
   ]
  },
  {
   "cell_type": "raw",
   "metadata": {},
   "source": [
    "Next, I want to slice out the rows of the states babies 2014 DataFrame to correspond to the state California. To do this I'll use the loc method again. So I'll type in states babies 2014.loc, square brackets, states babies 2014, square brackets, State, equals equals CA, which represents California, comma colon. And I'll go ahead and store this in a variable named ca babies 2014. And I'll run the cell. "
   ]
  },
  {
   "cell_type": "code",
   "execution_count": 8,
   "metadata": {},
   "outputs": [],
   "source": [
    "ca_babies_2014=statee_babies_2014.loc[statee_babies_2014['State']=='CA',:]"
   ]
  },
  {
   "cell_type": "raw",
   "metadata": {},
   "source": [
    "Now when I type in ca babies 2014 I have access to that DataFrame."
   ]
  },
  {
   "cell_type": "code",
   "execution_count": 9,
   "metadata": {},
   "outputs": [
    {
     "data": {
      "text/html": [
       "<div>\n",
       "<style scoped>\n",
       "    .dataframe tbody tr th:only-of-type {\n",
       "        vertical-align: middle;\n",
       "    }\n",
       "\n",
       "    .dataframe tbody tr th {\n",
       "        vertical-align: top;\n",
       "    }\n",
       "\n",
       "    .dataframe thead th {\n",
       "        text-align: right;\n",
       "    }\n",
       "</style>\n",
       "<table border=\"1\" class=\"dataframe\">\n",
       "  <thead>\n",
       "    <tr style=\"text-align: right;\">\n",
       "      <th></th>\n",
       "      <th>Id</th>\n",
       "      <th>Name</th>\n",
       "      <th>Year</th>\n",
       "      <th>Gender</th>\n",
       "      <th>State</th>\n",
       "      <th>Count</th>\n",
       "    </tr>\n",
       "  </thead>\n",
       "  <tbody>\n",
       "    <tr>\n",
       "      <th>561495</th>\n",
       "      <td>561496</td>\n",
       "      <td>Sophia</td>\n",
       "      <td>2014</td>\n",
       "      <td>F</td>\n",
       "      <td>CA</td>\n",
       "      <td>3162</td>\n",
       "    </tr>\n",
       "    <tr>\n",
       "      <th>561496</th>\n",
       "      <td>561497</td>\n",
       "      <td>Isabella</td>\n",
       "      <td>2014</td>\n",
       "      <td>F</td>\n",
       "      <td>CA</td>\n",
       "      <td>2705</td>\n",
       "    </tr>\n",
       "    <tr>\n",
       "      <th>561497</th>\n",
       "      <td>561498</td>\n",
       "      <td>Emma</td>\n",
       "      <td>2014</td>\n",
       "      <td>F</td>\n",
       "      <td>CA</td>\n",
       "      <td>2662</td>\n",
       "    </tr>\n",
       "    <tr>\n",
       "      <th>561498</th>\n",
       "      <td>561499</td>\n",
       "      <td>Mia</td>\n",
       "      <td>2014</td>\n",
       "      <td>F</td>\n",
       "      <td>CA</td>\n",
       "      <td>2627</td>\n",
       "    </tr>\n",
       "    <tr>\n",
       "      <th>561499</th>\n",
       "      <td>561500</td>\n",
       "      <td>Olivia</td>\n",
       "      <td>2014</td>\n",
       "      <td>F</td>\n",
       "      <td>CA</td>\n",
       "      <td>2407</td>\n",
       "    </tr>\n",
       "    <tr>\n",
       "      <th>...</th>\n",
       "      <td>...</td>\n",
       "      <td>...</td>\n",
       "      <td>...</td>\n",
       "      <td>...</td>\n",
       "      <td>...</td>\n",
       "      <td>...</td>\n",
       "    </tr>\n",
       "    <tr>\n",
       "      <th>710225</th>\n",
       "      <td>710226</td>\n",
       "      <td>Zakary</td>\n",
       "      <td>2014</td>\n",
       "      <td>M</td>\n",
       "      <td>CA</td>\n",
       "      <td>5</td>\n",
       "    </tr>\n",
       "    <tr>\n",
       "      <th>710226</th>\n",
       "      <td>710227</td>\n",
       "      <td>Zealand</td>\n",
       "      <td>2014</td>\n",
       "      <td>M</td>\n",
       "      <td>CA</td>\n",
       "      <td>5</td>\n",
       "    </tr>\n",
       "    <tr>\n",
       "      <th>710227</th>\n",
       "      <td>710228</td>\n",
       "      <td>Ziad</td>\n",
       "      <td>2014</td>\n",
       "      <td>M</td>\n",
       "      <td>CA</td>\n",
       "      <td>5</td>\n",
       "    </tr>\n",
       "    <tr>\n",
       "      <th>710228</th>\n",
       "      <td>710229</td>\n",
       "      <td>Zidane</td>\n",
       "      <td>2014</td>\n",
       "      <td>M</td>\n",
       "      <td>CA</td>\n",
       "      <td>5</td>\n",
       "    </tr>\n",
       "    <tr>\n",
       "      <th>710229</th>\n",
       "      <td>710230</td>\n",
       "      <td>Ziyad</td>\n",
       "      <td>2014</td>\n",
       "      <td>M</td>\n",
       "      <td>CA</td>\n",
       "      <td>5</td>\n",
       "    </tr>\n",
       "  </tbody>\n",
       "</table>\n",
       "<p>6903 rows × 6 columns</p>\n",
       "</div>"
      ],
      "text/plain": [
       "            Id      Name  Year Gender State  Count\n",
       "561495  561496    Sophia  2014      F    CA   3162\n",
       "561496  561497  Isabella  2014      F    CA   2705\n",
       "561497  561498      Emma  2014      F    CA   2662\n",
       "561498  561499       Mia  2014      F    CA   2627\n",
       "561499  561500    Olivia  2014      F    CA   2407\n",
       "...        ...       ...   ...    ...   ...    ...\n",
       "710225  710226    Zakary  2014      M    CA      5\n",
       "710226  710227   Zealand  2014      M    CA      5\n",
       "710227  710228      Ziad  2014      M    CA      5\n",
       "710228  710229    Zidane  2014      M    CA      5\n",
       "710229  710230     Ziyad  2014      M    CA      5\n",
       "\n",
       "[6903 rows x 6 columns]"
      ]
     },
     "execution_count": 9,
     "metadata": {},
     "output_type": "execute_result"
    }
   ],
   "source": [
    "ca_babies_2014"
   ]
  },
  {
   "cell_type": "markdown",
   "metadata": {},
   "source": [
    "### Step 3: Sort the rows of the ca babies 2014 DataFrame in descending order by Count"
   ]
  },
  {
   "cell_type": "raw",
   "metadata": {},
   "source": [
    "To do this I'll use the sort values method again. So I'll type in ca babies 2014.sort values, parentheses, Count comma ascending equals False. And I'll go ahead and store that DataFrame in a variable named sorted_ca_2014. And I'll run the cell. "
   ]
  },
  {
   "cell_type": "code",
   "execution_count": 10,
   "metadata": {},
   "outputs": [],
   "source": [
    "sorted_ca_2014 = ca_babies_2014.sort_values('Count',ascending=False)"
   ]
  },
  {
   "cell_type": "raw",
   "metadata": {},
   "source": [
    "Now when I type in sorted ca 2014 I have access to that DataFrame."
   ]
  },
  {
   "cell_type": "code",
   "execution_count": 11,
   "metadata": {},
   "outputs": [
    {
     "data": {
      "text/html": [
       "<div>\n",
       "<style scoped>\n",
       "    .dataframe tbody tr th:only-of-type {\n",
       "        vertical-align: middle;\n",
       "    }\n",
       "\n",
       "    .dataframe tbody tr th {\n",
       "        vertical-align: top;\n",
       "    }\n",
       "\n",
       "    .dataframe thead th {\n",
       "        text-align: right;\n",
       "    }\n",
       "</style>\n",
       "<table border=\"1\" class=\"dataframe\">\n",
       "  <thead>\n",
       "    <tr style=\"text-align: right;\">\n",
       "      <th></th>\n",
       "      <th>Id</th>\n",
       "      <th>Name</th>\n",
       "      <th>Year</th>\n",
       "      <th>Gender</th>\n",
       "      <th>State</th>\n",
       "      <th>Count</th>\n",
       "    </tr>\n",
       "  </thead>\n",
       "  <tbody>\n",
       "    <tr>\n",
       "      <th>561495</th>\n",
       "      <td>561496</td>\n",
       "      <td>Sophia</td>\n",
       "      <td>2014</td>\n",
       "      <td>F</td>\n",
       "      <td>CA</td>\n",
       "      <td>3162</td>\n",
       "    </tr>\n",
       "    <tr>\n",
       "      <th>707311</th>\n",
       "      <td>707312</td>\n",
       "      <td>Noah</td>\n",
       "      <td>2014</td>\n",
       "      <td>M</td>\n",
       "      <td>CA</td>\n",
       "      <td>2761</td>\n",
       "    </tr>\n",
       "    <tr>\n",
       "      <th>561496</th>\n",
       "      <td>561497</td>\n",
       "      <td>Isabella</td>\n",
       "      <td>2014</td>\n",
       "      <td>F</td>\n",
       "      <td>CA</td>\n",
       "      <td>2705</td>\n",
       "    </tr>\n",
       "    <tr>\n",
       "      <th>707312</th>\n",
       "      <td>707313</td>\n",
       "      <td>Jacob</td>\n",
       "      <td>2014</td>\n",
       "      <td>M</td>\n",
       "      <td>CA</td>\n",
       "      <td>2692</td>\n",
       "    </tr>\n",
       "    <tr>\n",
       "      <th>561497</th>\n",
       "      <td>561498</td>\n",
       "      <td>Emma</td>\n",
       "      <td>2014</td>\n",
       "      <td>F</td>\n",
       "      <td>CA</td>\n",
       "      <td>2662</td>\n",
       "    </tr>\n",
       "    <tr>\n",
       "      <th>...</th>\n",
       "      <td>...</td>\n",
       "      <td>...</td>\n",
       "      <td>...</td>\n",
       "      <td>...</td>\n",
       "      <td>...</td>\n",
       "      <td>...</td>\n",
       "    </tr>\n",
       "    <tr>\n",
       "      <th>565293</th>\n",
       "      <td>565294</td>\n",
       "      <td>Marvel</td>\n",
       "      <td>2014</td>\n",
       "      <td>F</td>\n",
       "      <td>CA</td>\n",
       "      <td>5</td>\n",
       "    </tr>\n",
       "    <tr>\n",
       "      <th>565294</th>\n",
       "      <td>565295</td>\n",
       "      <td>Masyn</td>\n",
       "      <td>2014</td>\n",
       "      <td>F</td>\n",
       "      <td>CA</td>\n",
       "      <td>5</td>\n",
       "    </tr>\n",
       "    <tr>\n",
       "      <th>565295</th>\n",
       "      <td>565296</td>\n",
       "      <td>Mathilda</td>\n",
       "      <td>2014</td>\n",
       "      <td>F</td>\n",
       "      <td>CA</td>\n",
       "      <td>5</td>\n",
       "    </tr>\n",
       "    <tr>\n",
       "      <th>565296</th>\n",
       "      <td>565297</td>\n",
       "      <td>Mattea</td>\n",
       "      <td>2014</td>\n",
       "      <td>F</td>\n",
       "      <td>CA</td>\n",
       "      <td>5</td>\n",
       "    </tr>\n",
       "    <tr>\n",
       "      <th>710229</th>\n",
       "      <td>710230</td>\n",
       "      <td>Ziyad</td>\n",
       "      <td>2014</td>\n",
       "      <td>M</td>\n",
       "      <td>CA</td>\n",
       "      <td>5</td>\n",
       "    </tr>\n",
       "  </tbody>\n",
       "</table>\n",
       "<p>6903 rows × 6 columns</p>\n",
       "</div>"
      ],
      "text/plain": [
       "            Id      Name  Year Gender State  Count\n",
       "561495  561496    Sophia  2014      F    CA   3162\n",
       "707311  707312      Noah  2014      M    CA   2761\n",
       "561496  561497  Isabella  2014      F    CA   2705\n",
       "707312  707313     Jacob  2014      M    CA   2692\n",
       "561497  561498      Emma  2014      F    CA   2662\n",
       "...        ...       ...   ...    ...   ...    ...\n",
       "565293  565294    Marvel  2014      F    CA      5\n",
       "565294  565295     Masyn  2014      F    CA      5\n",
       "565295  565296  Mathilda  2014      F    CA      5\n",
       "565296  565297    Mattea  2014      F    CA      5\n",
       "710229  710230     Ziyad  2014      M    CA      5\n",
       "\n",
       "[6903 rows x 6 columns]"
      ]
     },
     "execution_count": 11,
     "metadata": {},
     "output_type": "execute_result"
    }
   ],
   "source": [
    "sorted_ca_2014"
   ]
  },
  {
   "cell_type": "markdown",
   "metadata": {},
   "source": [
    "### Step 4: slice out the first five rows of sorted ca 2014"
   ]
  },
  {
   "cell_type": "raw",
   "metadata": {},
   "source": [
    "To do this I'll use the iloc method again. So I'll type in sorted ca 2014, square brackets, 0:5. And I'll run the cell. "
   ]
  },
  {
   "cell_type": "code",
   "execution_count": 12,
   "metadata": {},
   "outputs": [
    {
     "data": {
      "text/html": [
       "<div>\n",
       "<style scoped>\n",
       "    .dataframe tbody tr th:only-of-type {\n",
       "        vertical-align: middle;\n",
       "    }\n",
       "\n",
       "    .dataframe tbody tr th {\n",
       "        vertical-align: top;\n",
       "    }\n",
       "\n",
       "    .dataframe thead th {\n",
       "        text-align: right;\n",
       "    }\n",
       "</style>\n",
       "<table border=\"1\" class=\"dataframe\">\n",
       "  <thead>\n",
       "    <tr style=\"text-align: right;\">\n",
       "      <th></th>\n",
       "      <th>Id</th>\n",
       "      <th>Name</th>\n",
       "      <th>Year</th>\n",
       "      <th>Gender</th>\n",
       "      <th>State</th>\n",
       "      <th>Count</th>\n",
       "    </tr>\n",
       "  </thead>\n",
       "  <tbody>\n",
       "    <tr>\n",
       "      <th>561495</th>\n",
       "      <td>561496</td>\n",
       "      <td>Sophia</td>\n",
       "      <td>2014</td>\n",
       "      <td>F</td>\n",
       "      <td>CA</td>\n",
       "      <td>3162</td>\n",
       "    </tr>\n",
       "    <tr>\n",
       "      <th>707311</th>\n",
       "      <td>707312</td>\n",
       "      <td>Noah</td>\n",
       "      <td>2014</td>\n",
       "      <td>M</td>\n",
       "      <td>CA</td>\n",
       "      <td>2761</td>\n",
       "    </tr>\n",
       "    <tr>\n",
       "      <th>561496</th>\n",
       "      <td>561497</td>\n",
       "      <td>Isabella</td>\n",
       "      <td>2014</td>\n",
       "      <td>F</td>\n",
       "      <td>CA</td>\n",
       "      <td>2705</td>\n",
       "    </tr>\n",
       "    <tr>\n",
       "      <th>707312</th>\n",
       "      <td>707313</td>\n",
       "      <td>Jacob</td>\n",
       "      <td>2014</td>\n",
       "      <td>M</td>\n",
       "      <td>CA</td>\n",
       "      <td>2692</td>\n",
       "    </tr>\n",
       "    <tr>\n",
       "      <th>561497</th>\n",
       "      <td>561498</td>\n",
       "      <td>Emma</td>\n",
       "      <td>2014</td>\n",
       "      <td>F</td>\n",
       "      <td>CA</td>\n",
       "      <td>2662</td>\n",
       "    </tr>\n",
       "  </tbody>\n",
       "</table>\n",
       "</div>"
      ],
      "text/plain": [
       "            Id      Name  Year Gender State  Count\n",
       "561495  561496    Sophia  2014      F    CA   3162\n",
       "707311  707312      Noah  2014      M    CA   2761\n",
       "561496  561497  Isabella  2014      F    CA   2705\n",
       "707312  707313     Jacob  2014      M    CA   2692\n",
       "561497  561498      Emma  2014      F    CA   2662"
      ]
     },
     "execution_count": 12,
     "metadata": {},
     "output_type": "execute_result"
    }
   ],
   "source": [
    "sorted_ca_2014.iloc[0:5]"
   ]
  },
  {
   "cell_type": "raw",
   "metadata": {},
   "source": [
    "There we go. So according to this data set Sophia, Noah, Isabella, Jacob, and Emma are the five most popular baby names in 2014 in California."
   ]
  }
 ],
 "metadata": {
  "kernelspec": {
   "display_name": "Python 3",
   "language": "python",
   "name": "python3"
  },
  "language_info": {
   "codemirror_mode": {
    "name": "ipython",
    "version": 3
   },
   "file_extension": ".py",
   "mimetype": "text/x-python",
   "name": "python",
   "nbconvert_exporter": "python",
   "pygments_lexer": "ipython3",
   "version": "3.7.6"
  }
 },
 "nbformat": 4,
 "nbformat_minor": 2
}
