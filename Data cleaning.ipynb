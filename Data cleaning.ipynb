{
 "cells": [
  {
   "cell_type": "raw",
   "metadata": {},
   "source": [
    "Here we have data regarding crime incident reports provided by Boston Police Department and the data spans June 15th, 2015 to August 17th, 2019. "
   ]
  },
  {
   "cell_type": "code",
   "execution_count": null,
   "metadata": {},
   "outputs": [],
   "source": [
    "import pandas as pd\n",
    "crimes = pd.read_csv('Data/crime_boston.csv')"
   ]
  },
  {
   "cell_type": "raw",
   "metadata": {},
   "source": [
    "As a reminder, this is what the crime incident report data frame looks like. "
   ]
  },
  {
   "cell_type": "code",
   "execution_count": null,
   "metadata": {},
   "outputs": [],
   "source": [
    "crimes"
   ]
  },
  {
   "cell_type": "raw",
   "metadata": {},
   "source": [
    "The first question I want to answer is:"
   ]
  },
  {
   "cell_type": "markdown",
   "metadata": {},
   "source": [
    "### Are there missing values in the dataset?"
   ]
  },
  {
   "cell_type": "raw",
   "metadata": {},
   "source": [
    "To do this, I can use the isnull method. So I'll do crime.isnull parenthesis and run the cell."
   ]
  },
  {
   "cell_type": "code",
   "execution_count": null,
   "metadata": {},
   "outputs": [],
   "source": [
    "crimes.isnull()"
   ]
  },
  {
   "cell_type": "raw",
   "metadata": {},
   "source": [
    "As you can see, a new data frame was returned, and this data frame contains Booleans. A reminder that Booleans are truth values in programming. In this data frame, a False means that the corresponding value in the crime data frame is not missing. And a True means that the corresponding value in the crime data frame is missing."
   ]
  },
  {
   "cell_type": "raw",
   "metadata": {},
   "source": [
    "Next, I want to access just the rows that contain missing values from the crime data frame. To do this, I can use the isnull method followed by the any method. So I'll go ahead and type in crime.isnull parenthesis dot any parenthesis axis equals one. And I'll go ahead and run the cell."
   ]
  },
  {
   "cell_type": "code",
   "execution_count": null,
   "metadata": {},
   "outputs": [],
   "source": [
    "crimes.isnull().any(axis=1)"
   ]
  },
  {
   "cell_type": "raw",
   "metadata": {},
   "source": [
    "Now this is a pandas series that contains Booleans. The Boolean in each row of the series here represents whether the corresponding row of the crime data frame contains a missing value. In this series, a True means that the corresponding row in the crime data frame contains a missing value. And a False means that the corresponding row in the crime data frame does not contain a missing value."
   ]
  },
  {
   "cell_type": "raw",
   "metadata": {},
   "source": [
    "The next step is to use this series to get the rows of the crime data frame that contain missing values. To do this, I will store this series in a variable named rows_with_missing_vals. So I'll go ahead and type in rows_with_missing_vals equals crime.isnull parenthesis dot any parenthesis axis equals one. Then I'll do crime square brackets rows_with_missing_vals and I'll go ahead and run this cell. There we go."
   ]
  },
  {
   "cell_type": "code",
   "execution_count": null,
   "metadata": {},
   "outputs": [],
   "source": [
    "rows_with_missing_vals = crime.isnull().any(axis=1)\n",
    "crimes[rows_with_missing_vals]"
   ]
  },
  {
   "cell_type": "raw",
   "metadata": {},
   "source": [
    "This data frame here contains just the rows from the crime data set containing missing values. And note that missing values are denoted by NaN."
   ]
  },
  {
   "cell_type": "raw",
   "metadata": {},
   "source": [
    "As a part of cleaning this data, I want to drop the year, month, and hour columns since the occurred on date column already includes both date and time. And this is how I do that. I will do crimes.drop parenthesis columns squarebraket quote Year comma Month comma and hour. I will store this data in a variable calles cleaned_crime"
   ]
  },
  {
   "cell_type": "code",
   "execution_count": null,
   "metadata": {},
   "outputs": [],
   "source": [
    "cleaned_crime = crimes.drop(columns=['YEAR','MONTH','HOUR'])"
   ]
  },
  {
   "cell_type": "raw",
   "metadata": {},
   "source": [
    "Since I've already begun cleaning the crime data frame and I've stored the cleaner version in the variable cleaned_crime, I'll use cleaned_crime going forward. Now I'll use the unique method from the pandas' library on each column in which I want to check for misspellings. Note that a column in a pandas' data frame is represented as a pandas' series. And the unique method returns the unique values in a series in order of appearance. The first column in which I want to check for misspellings is offense code group. So I'll do cleaned_crime square brackets OFFENSE_CODE_GROUP dot unique parenthesis and I'll run the cell."
   ]
  },
  {
   "cell_type": "code",
   "execution_count": null,
   "metadata": {},
   "outputs": [],
   "source": [
    "cleaned_crime['OFFENSE_CODE_GROUP'].unique()"
   ]
  },
  {
   "cell_type": "raw",
   "metadata": {},
   "source": [
    "There we go. Now I'll go through the unique values displayed here and check for misspellings. I do not see any misspellings here so I'll move on to the next column. "
   ]
  },
  {
   "cell_type": "raw",
   "metadata": {},
   "source": [
    "The next column in which I want to check for misspellings is offense description. So I'll do cleaned_crime square brackets OFFENSE_DESCRIPTION dot unique parenthesis and I'll run the cell. "
   ]
  },
  {
   "cell_type": "code",
   "execution_count": null,
   "metadata": {},
   "outputs": [],
   "source": [
    "cleaned_crime['OFFENSE_DESCRIPTION'].unique()"
   ]
  },
  {
   "cell_type": "raw",
   "metadata": {},
   "source": [
    "There, now I'll read through the unique values here and check for misspellings. I do not see any misspellings here so I'll move on to the next column. "
   ]
  },
  {
   "cell_type": "raw",
   "metadata": {},
   "source": [
    "The final column in which I want to check for misspellings is day of week. So I'll do cleaned_crime square brackets DAY_OF_WEEK dot unique parenthesis and I'll run the cell."
   ]
  },
  {
   "cell_type": "code",
   "execution_count": null,
   "metadata": {},
   "outputs": [],
   "source": [
    "cleaned_crime['DAY_OF_WEEK'].unique()"
   ]
  },
  {
   "cell_type": "raw",
   "metadata": {},
   "source": [
    "And now I'll check if there are any misspellings here. And I do not see any misspellings here either. "
   ]
  },
  {
   "cell_type": "raw",
   "metadata": {},
   "source": [
    "Now note that the location column contains pairs of latitude and longitude. It might be more convenient to have access to these values individually rather than in pairs. So as a part of cleaning the data, I want to drop the location column since the lat and long columns already express the latitude and longitude respectively. And this is how I do that. I'll again use the drop method from the pandas' library. So I'll do cleaned_crime.drop parenthesis columns equals Location. Now this call to drop would return a new data frame which I can store in the variable cleaned_crime. And I'll go ahead and run the cell. "
   ]
  },
  {
   "cell_type": "code",
   "execution_count": null,
   "metadata": {},
   "outputs": [],
   "source": [
    "cleaned_crime = cleaned_crime.drop(columns=['Location'])"
   ]
  },
  {
   "cell_type": "raw",
   "metadata": {},
   "source": [
    "The data frame that was previously stored in the variable cleaned_crime has now been replaced by the new data frame that was returned by this call to drop. Now I'll type in cleaned_crime and run the cell. "
   ]
  },
  {
   "cell_type": "code",
   "execution_count": null,
   "metadata": {},
   "outputs": [],
   "source": [
    "cleaned_crime"
   ]
  },
  {
   "cell_type": "raw",
   "metadata": {},
   "source": [
    "Note that this data frame does not contain a location column. This is good. "
   ]
  }
 ],
 "metadata": {
  "kernelspec": {
   "display_name": "Python 3",
   "language": "python",
   "name": "python3"
  },
  "language_info": {
   "codemirror_mode": {
    "name": "ipython",
    "version": 3
   },
   "file_extension": ".py",
   "mimetype": "text/x-python",
   "name": "python",
   "nbconvert_exporter": "python",
   "pygments_lexer": "ipython3",
   "version": "3.7.6"
  }
 },
 "nbformat": 4,
 "nbformat_minor": 4
}
