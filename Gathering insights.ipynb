{
 "cells": [
  {
   "cell_type": "markdown",
   "metadata": {},
   "source": [
    "# Gathering insights"
   ]
  },
  {
   "cell_type": "code",
   "execution_count": null,
   "metadata": {},
   "outputs": [],
   "source": [
    "# Import pandas library\n",
    "import pandas as pd\n",
    "# Import dataframe using pd.read_csv() method\n",
    "states_babies = pd.read_csv('Data/state_baby_names.csv')"
   ]
  },
  {
   "cell_type": "raw",
   "metadata": {},
   "source": [
    "So I'll type in ca babies equals states babies.loc states babies square brackets state equals equals ca comma colon. And I'll go ahead and run the cell. "
   ]
  },
  {
   "cell_type": "code",
   "execution_count": null,
   "metadata": {},
   "outputs": [],
   "source": [
    "ca_babies = states_babies.loc[states_babies['State']=='CA',:]"
   ]
  },
  {
   "cell_type": "raw",
   "metadata": {},
   "source": [
    "This specifies that I only want the rows of the states babies data set where state is California and the colon specifies that I want all the columns for those rows, so now I'll type in ca babies and hit Run. "
   ]
  },
  {
   "cell_type": "code",
   "execution_count": null,
   "metadata": {},
   "outputs": [],
   "source": [
    "ca_babies"
   ]
  },
  {
   "cell_type": "raw",
   "metadata": {},
   "source": [
    "Now I'll show you how to group the ca babies DataFrame by both year and gender, to do this I'll use the groupby method. Now the groupby method allows you to group the data in a DataFrame based on the criteria you specify. In this case the criteria I'll specify are a list of the name of the columns by which I want to group my data. I want to group my data by year and gender. So I'll pass in a list containing year and gender as input to the groupby method. So I'll type in ca babies.groupby parenthesis square brackets year, comma gender and note that in programming the items of a list are enclosed by square brackets and items are separated from each other by commas. Now when you call the groupby method on a DataFrame it does not return a new DataFrame. Rather it returns an object called the DataFrame groupby object and this object contains information about the groups that were created. "
   ]
  },
  {
   "cell_type": "code",
   "execution_count": null,
   "metadata": {},
   "outputs": [],
   "source": [
    "ca_babies.groupby(['Year','Gender'])"
   ]
  },
  {
   "cell_type": "raw",
   "metadata": {},
   "source": [
    "So I'll use another method that operates on those groups to create a new DataFrame that suits my needs, and this method is called the agg method. Now the agg method can receive an aggregation function as input and use it to aggregate the groups of data. Agg applies the aggregation function to every column in each group, and each column of the Pandas DataFrame is a Pandas series. In my case I've grouped my data on year and gender and I need an aggregation function that takes in a Pandas series as input and finds the most popular baby name in that series. I'll define this function myself. I'll start with the keyword def followed by the name of the function, and I'll go with popular. Next is parenthesis, and in the parenthesis I'll type in s which will represent the input that this function receives. S will be a Pandas series containing baby names. Next is a colon, and I'll hit Enter to get to the next line. "
   ]
  },
  {
   "cell_type": "code",
   "execution_count": null,
   "metadata": {},
   "outputs": [],
   "source": [
    "# def popular(s):\n",
    "#"
   ]
  },
  {
   "cell_type": "raw",
   "metadata": {},
   "source": [
    "Now it would be easier if this function receives baby names in order of highest count to lowest count. So what I'll do is I'll sort ca babies before I call the groupby method and the agg method. I'll use the sort values method to do that. So I'll type in sort underscore values, parenthesis I'll type in count since I want to sort the data based on count comma ascending equals false. Because I want to sort in descending order, then I'll have a period there.  "
   ]
  },
  {
   "cell_type": "code",
   "execution_count": null,
   "metadata": {},
   "outputs": [],
   "source": [
    "ca_babies.sort_values('Count',ascending=False).groupby(['Year','Gender'])"
   ]
  },
  {
   "cell_type": "raw",
   "metadata": {},
   "source": [
    "Now I'll go back to the aggregation function I was defining. First I will write a multi-line comment. It's not read by the computer it's just for me and you So this function receives s which is a Pandas series containing baby names in order of highest count to lowest count and it returns the most popular name in s. . Now I'll use the iloc method, I'll write return s.iloc square brackets zero. This means that I am returning the item in s that has index zero, in other words I am returning the first item in s, this item is the most popular name in s because s is ordered by count. Such that the first item in s corresponds to the highest count and the last item in s corresponds to the lowest count. I'll go ahead and run this cell. "
   ]
  },
  {
   "cell_type": "code",
   "execution_count": null,
   "metadata": {},
   "outputs": [],
   "source": [
    "def popular(s):\n",
    "    \"\"\"\n",
    "    Receives s which is a Pandas series containing baby names in order of highest count to lowest count \n",
    "    Returns the most popular name in s\n",
    "    \"\"\"\n",
    "    return s.iloc[0]"
   ]
  },
  {
   "cell_type": "raw",
   "metadata": {},
   "source": [
    "Now I'll call the agg method and I'll pass in the aggregation function that I just defined that I named popular. Also I'll create a variable named ca grouped and assign it to the DataFrame that I'll get from doing this, I'll go ahead and run the cell now."
   ]
  },
  {
   "cell_type": "code",
   "execution_count": null,
   "metadata": {},
   "outputs": [],
   "source": [
    "ca_grouped = ca_babies.sort_values('Count',ascending=False).groupby(['Year','Gender']).agg(popular)"
   ]
  },
  {
   "cell_type": "raw",
   "metadata": {},
   "source": [
    "Now I can access the group data using ca grouped. So I'll type in ca grouped and I'll hit Run. "
   ]
  },
  {
   "cell_type": "code",
   "execution_count": null,
   "metadata": {},
   "outputs": [],
   "source": [
    "ca_grouped"
   ]
  },
  {
   "cell_type": "raw",
   "metadata": {},
   "source": [
    "This DataFrame contains the most popular female and male baby names for each year in California. "
   ]
  }
 ],
 "metadata": {
  "kernelspec": {
   "display_name": "Python 3",
   "language": "python",
   "name": "python3"
  },
  "language_info": {
   "codemirror_mode": {
    "name": "ipython",
    "version": 3
   },
   "file_extension": ".py",
   "mimetype": "text/x-python",
   "name": "python",
   "nbconvert_exporter": "python",
   "pygments_lexer": "ipython3",
   "version": "3.7.6"
  }
 },
 "nbformat": 4,
 "nbformat_minor": 2
}
